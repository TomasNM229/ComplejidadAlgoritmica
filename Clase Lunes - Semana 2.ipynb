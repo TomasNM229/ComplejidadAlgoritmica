{
  "nbformat": 4,
  "nbformat_minor": 0,
  "metadata": {
    "colab": {
      "name": "Untitled",
      "provenance": [],
      "authorship_tag": "ABX9TyNzZYYOAQoBMGTWd2kixFLF",
      "include_colab_link": true
    },
    "kernelspec": {
      "name": "python3",
      "display_name": "Python 3"
    },
    "language_info": {
      "name": "python"
    }
  },
  "cells": [
    {
      "cell_type": "markdown",
      "metadata": {
        "id": "view-in-github",
        "colab_type": "text"
      },
      "source": [
        "<a href=\"https://colab.research.google.com/github/TomasNM229/ComplejidadAlgoritmica/blob/master/Clase%20Lunes%20-%20Semana%202.ipynb\" target=\"_parent\"><img src=\"https://colab.research.google.com/assets/colab-badge.svg\" alt=\"Open In Colab\"/></a>"
      ]
    },
    {
      "cell_type": "markdown",
      "metadata": {
        "id": "IGKydbvE2_O1"
      },
      "source": [
        "## Fuerza Bruta"
      ]
    },
    {
      "cell_type": "code",
      "metadata": {
        "colab": {
          "base_uri": "https://localhost:8080/"
        },
        "id": "-WbMECJ53CDb",
        "outputId": "a840c8cb-3fa4-4e16-f2d3-e1302c521162"
      },
      "source": [
        "def ArregloSeleccion(A):\n",
        "  n=len(A)\n",
        "  for i in range(n-1):\n",
        "      min_pos=i\n",
        "      for j in range(i+1, n): \n",
        "          if A[j]<A[min_pos]:\n",
        "            min_pos=j\n",
        "\n",
        "      if min_pos != i:\n",
        "        A[min_pos], A[i]= A[i], A[min_pos]\n",
        "\n",
        "\n",
        "A=[5,8,1,9,3,10,2,7,6,4]\n",
        "ArregloSeleccion(A)\n",
        "print(A)"
      ],
      "execution_count": 8,
      "outputs": [
        {
          "output_type": "stream",
          "text": [
            "[1, 2, 3, 4, 5, 6, 7, 8, 9, 10]\n"
          ],
          "name": "stdout"
        }
      ]
    },
    {
      "cell_type": "code",
      "metadata": {
        "id": "PnUAVU546_3p"
      },
      "source": [
        "def MetodoBurbuja[A]:\n",
        "  n=len(A)\n",
        "  for i in range (n-1):\n",
        "    for j in range (n-1-i):\n",
        "      if A[j]>A[j+1]:\n",
        "        A[j], A[j+1]=A[j+1], A[j]"
      ],
      "execution_count": null,
      "outputs": []
    },
    {
      "cell_type": "code",
      "metadata": {
        "colab": {
          "base_uri": "https://localhost:8080/"
        },
        "id": "bZthAH3i7boR",
        "outputId": "02ed5380-c8c0-4da5-f33a-e182b86442e9"
      },
      "source": [
        "A=[5,8,1,9,3,10,2,7,6,4]\n",
        "ArregloSeleccion(A)\n",
        "print(A)"
      ],
      "execution_count": 9,
      "outputs": [
        {
          "output_type": "stream",
          "text": [
            "[1, 2, 3, 4, 5, 6, 7, 8, 9, 10]\n"
          ],
          "name": "stdout"
        }
      ]
    },
    {
      "cell_type": "code",
      "metadata": {
        "id": "Wznzl1Qp77w-"
      },
      "source": [
        "def StringMatching(p, t):\n",
        "  l=len(p)\n",
        "  n=len(t)\n",
        "  resultados=[]\n",
        "  for i in range (n-l):\n",
        "    if p == t[i:i+l]:\n",
        "      resultados.append(i)\n",
        "  return resultados\n",
        "\n"
      ],
      "execution_count": 17,
      "outputs": []
    },
    {
      "cell_type": "code",
      "metadata": {
        "colab": {
          "base_uri": "https://localhost:8080/"
        },
        "id": "hzSMWgzJ9gz4",
        "outputId": "cf4ab655-5d7c-47f8-e897-a62d9cec51de"
      },
      "source": [
        " StringMatching(\"rac\", \"abracadabraraclamazoo\")"
      ],
      "execution_count": 19,
      "outputs": [
        {
          "output_type": "execute_result",
          "data": {
            "text/plain": [
              "[2, 11]"
            ]
          },
          "metadata": {
            "tags": []
          },
          "execution_count": 19
        }
      ]
    },
    {
      "cell_type": "markdown",
      "metadata": {
        "id": "dzVFmTju-GV2"
      },
      "source": [
        "## Backtracking : Retrocedes sobre nuestros propios pasos\n"
      ]
    },
    {
      "cell_type": "code",
      "metadata": {
        "colab": {
          "base_uri": "https://localhost:8080/",
          "height": 253
        },
        "id": "X0EtQ7Z0-WSy",
        "outputId": "f2fb7768-a7b8-41a1-bcbb-a11e683b67f3"
      },
      "source": [
        "import matplotlib.pyplot as plt\n",
        "import numpy as np\n",
        "\n",
        "def dibujar(t):\n",
        "  n=len(t)\n",
        "  tablero=np.zeros((n,n,3))\n",
        "  tablero += 0.8\n",
        "  tablero[::2, ::2]=1\n",
        "  tablero[1::2, 1::2]=1\n",
        "\n",
        "  fig, ax = plt.subplots()\n",
        "  ax.imshow(tablero, interpolation='nearest')\n",
        "\n",
        "  for y, x in enumerate(t):\n",
        "    ax.text(x, y, u'\\u2655', size = 30, ha='center', va='center')\n",
        "\n",
        "    ax.set(xticks=[], yticks=[])\n",
        "    ax.axis('image')\n",
        "    plt.show\n",
        "\n",
        "dibujar([2,5,0,3,6,7,1,4])\n",
        "\n"
      ],
      "execution_count": 22,
      "outputs": [
        {
          "output_type": "display_data",
          "data": {
            "image/png": "[encoded data removed]",
            "text/plain": [
              "<Figure size 432x288 with 1 Axes>"
            ]
          },
          "metadata": {
            "tags": []
          }
        }
      ]
    },
    {
      "cell_type": "code",
      "metadata": {
        "id": "p3W-HeY3Ci0u"
      },
      "source": [
        "def Legal(board, row, column):\n",
        "  n=len(board)\n",
        "  if i in range(row):\n",
        "      if board [i] = row:\n",
        "        return false:"
      ],
      "execution_count": null,
      "outputs": []
    }
  ]
}